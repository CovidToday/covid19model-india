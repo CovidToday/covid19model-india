{
 "cells": [
  {
   "cell_type": "code",
   "execution_count": 1,
   "metadata": {},
   "outputs": [],
   "source": [
    "import numpy as np\n",
    "import scipy.stats as st\n",
    "import matplotlib.pyplot as plt"
   ]
  },
  {
   "cell_type": "code",
   "execution_count": 2,
   "metadata": {},
   "outputs": [],
   "source": [
    "values = []\n",
    "for i in range(1000):\n",
    "    temp = st.lognorm(s=0.418+(0.542-0.271)/3.92*np.random.normal(),scale=np.exp(1.612+(1.755-1.504)/3.92*np.random.normal()))\n",
    "    values.append(temp.mean()-2)\n",
    "\n",
    "values = np.clip(values,1,np.inf)\n",
    "values = np.concatenate([[np.mean(values)],values])\n",
    "np.savetxt(\"../latent.csv\",values,delimiter=',')"
   ]
  },
  {
   "cell_type": "code",
   "execution_count": 3,
   "metadata": {},
   "outputs": [],
   "source": [
    "values = []\n",
    "for i in range(1000):\n",
    "    temp1 = st.lognorm(s=0.418+(0.542-0.271)/3.92*np.random.normal(),scale=np.exp(1.612+(1.755-1.504)/3.92*np.random.normal()))\n",
    "    temp2 = st.norm(loc=7.8+(8.6-7.0)/3.92*np.random.normal(),scale=5.2+(5.9-4.7)/3.92*np.random.normal())    \n",
    "    values.append(temp2.mean()-temp1.mean()+2)\n",
    "\n",
    "values = np.clip(values,3,np.inf)\n",
    "values = np.concatenate([[np.mean(values)],values])\n",
    "np.savetxt(\"../infect.csv\",values,delimiter=',')"
   ]
  },
  {
   "cell_type": "code",
   "execution_count": 4,
   "metadata": {},
   "outputs": [
    {
     "data": {
      "image/png": "[encoded data removed]",
      "text/plain": [
       "<Figure size 864x360 with 2 Axes>"
      ]
     },
     "metadata": {
      "needs_background": "light"
     },
     "output_type": "display_data"
    }
   ],
   "source": [
    "plt.figure(figsize=(12,5))\n",
    "ax1 = plt.subplot(1,2,1)\n",
    "latent = np.loadtxt('../latent.csv',delimiter=',')[1:]\n",
    "ax1.hist(latent,bins=np.linspace(2.5,5.5,15),density=True,edgecolor='black', linewidth=1.2,label=f\"Mean = {np.mean(latent):0.2f}\\nSD = {np.std(latent):0.2f}\")\n",
    "ax1.set_xlabel(r\"Latent Period $\\gamma^{-1}$ (in days)\")\n",
    "ax1.set_ylabel(r\"Density\")\n",
    "ax1.set_ylim(0,1.2)\n",
    "\n",
    "plt.legend(frameon=False)\n",
    "\n",
    "ax2 = plt.subplot(1,2,2)\n",
    "infect = np.loadtxt('../infect.csv',delimiter=',')[1:]\n",
    "ax2.hist(infect,bins=np.linspace(3.0,6.5,15),density=True,edgecolor='black', linewidth=1.2,label=f\"Mean = {np.mean(infect):0.2f}\\nSD = {np.std(infect):0.2f}\")\n",
    "ax2.set_xlabel(r\"Infectious period for asymptomatics $\\delta_a^{-1}$ (in days)\")\n",
    "ax2.set_ylim(0,1.2)\n",
    "ax2.set_yticklabels([])\n",
    "ax2.get_yaxis().set_ticks([])\n",
    "plt.legend(frameon=False)\n",
    "\n",
    "\n",
    "ax1.spines['top'].set_visible(False)\n",
    "ax1.spines['right'].set_visible(False)\n",
    "ax2.spines['top'].set_visible(False)\n",
    "ax2.spines['right'].set_visible(False)\n",
    "ax2.spines['left'].set_visible(False)\n",
    "plt.subplots_adjust(wspace=0.1)\n",
    "plt.savefig('../../Figures/SuppFig19.png',dpi=600,transparent=True)"
   ]
  }
 ],
 "metadata": {
  "kernelspec": {
   "display_name": "Python 3",
   "language": "python",
   "name": "python3"
  },
  "language_info": {
   "codemirror_mode": {
    "name": "ipython",
    "version": 3
   },
   "file_extension": ".py",
   "mimetype": "text/x-python",
   "name": "python",
   "nbconvert_exporter": "python",
   "pygments_lexer": "ipython3",
   "version": "3.6.8"
  }
 },
 "nbformat": 4,
 "nbformat_minor": 4
}
